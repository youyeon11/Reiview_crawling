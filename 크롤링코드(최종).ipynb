{
 "cells": [
  {
   "cell_type": "markdown",
   "id": "0b99fc13",
   "metadata": {
    "id": "0b99fc13"
   },
   "source": [
    "# 라이브러리 설치"
   ]
  },
  {
   "cell_type": "code",
   "execution_count": 1,
   "id": "743c9aae",
   "metadata": {
    "id": "743c9aae",
    "outputId": "54376151-316c-445d-eb9a-2cf5193be4f6"
   },
   "outputs": [],
   "source": [
    "#!pip install --upgrade selenium"
   ]
  },
  {
   "cell_type": "code",
   "execution_count": 2,
   "id": "7da31cf1",
   "metadata": {
    "id": "7da31cf1",
    "outputId": "2e2fc20a-1dd1-45bc-95c3-e9f546ee246e"
   },
   "outputs": [],
   "source": [
    "#!pip install -U jupyter"
   ]
  },
  {
   "cell_type": "code",
   "execution_count": 3,
   "id": "88fac994",
   "metadata": {
    "id": "88fac994",
    "outputId": "add0ad54-a3d0-40c2-ff6f-20ecc9b2d5f6",
    "scrolled": true
   },
   "outputs": [
    {
     "data": {
      "text/plain": [
       "'4.15.2'"
      ]
     },
     "execution_count": 3,
     "metadata": {},
     "output_type": "execute_result"
    }
   ],
   "source": [
    "import selenium\n",
    "selenium.__version__"
   ]
  },
  {
   "cell_type": "code",
   "execution_count": 4,
   "id": "1d9830a0",
   "metadata": {
    "id": "1d9830a0",
    "outputId": "e5b0090b-2f11-44f0-c07a-4c59b3557399"
   },
   "outputs": [],
   "source": [
    "#!pip install -U selenium"
   ]
  },
  {
   "cell_type": "markdown",
   "id": "1b8ceae6",
   "metadata": {
    "id": "1b8ceae6"
   },
   "source": [
    "# 라이브러리 로드"
   ]
  },
  {
   "cell_type": "code",
   "execution_count": 5,
   "id": "ffa54fbf",
   "metadata": {
    "id": "ffa54fbf"
   },
   "outputs": [],
   "source": [
    "from selenium import webdriver\n",
    "from selenium.webdriver.chrome.service import Service\n",
    "from selenium.webdriver.chrome.options import Options\n",
    "from selenium.webdriver.common.by import By\n",
    "from selenium.webdriver.common.keys import Keys\n",
    "import requests\n",
    "from bs4 import BeautifulSoup\n",
    "import time\n",
    "import openpyxl\n",
    "import requests"
   ]
  },
  {
   "cell_type": "code",
   "execution_count": 6,
   "id": "0654442c",
   "metadata": {},
   "outputs": [],
   "source": [
    "import pickle\n",
    "from tqdm import tqdm"
   ]
  },
  {
   "cell_type": "code",
   "execution_count": 7,
   "id": "7a8489a4",
   "metadata": {
    "id": "7a8489a4",
    "outputId": "63e5f315-7a8f-4d3f-8b21-7e7dd54f5a39"
   },
   "outputs": [],
   "source": [
    "######################제공하는 코드 건드리지 마세요 #############################\n",
    "\n",
    "#크롬 드라이버 자동 업데이트\n",
    "from webdriver_manager.chrome import ChromeDriverManager\n",
    "\n",
    "# 브라우저 꺼짐 방지\n",
    "chrome_options = webdriver.ChromeOptions()\n",
    "chrome_options.add_experimental_option('detach', True)\n",
    "User_Agent = \"Mozilla/5.0 (Windows NT 10.0; Win64; x64) AppleWebKit/537.36 (KHTML, like Gecko) Chrome/95.0.4638.69 Safari/537.36\"\n",
    "chrome_options.add_argument(f\"user-agent={User_Agent}\")\n",
    "\n",
    "# 불필요한 에러 메세지 없애기\n",
    "chrome_options.add_experimental_option('excludeSwitches', ['enable-logging'])\n",
    "\n",
    "# 크롬 드라이버 경로 지정\n",
    "#driver_path = \"C:/Users/yurry/Downloads/chromedriver-win64/chromedriver-win64/chromedriver.exe\"\n",
    "\n",
    "# 크롬 드라이버 생성\n",
    "driver = webdriver.Chrome(options=chrome_options)"
   ]
  },
  {
   "cell_type": "code",
   "execution_count": 8,
   "id": "e46a32e3",
   "metadata": {
    "id": "e46a32e3"
   },
   "outputs": [],
   "source": [
    "#엑셀파일 생성\n",
    "wb = openpyxl.Workbook(\"여기어때_가평_1234펜션.xlsx\")\n",
    "ws = wb.create_sheet(\"시트명\")\n",
    "ws.append(['별점','리뷰'])  #컬럼명 제공"
   ]
  },
  {
   "cell_type": "markdown",
   "id": "26cf1a8d",
   "metadata": {
    "id": "26cf1a8d"
   },
   "source": [
    "## 펜션 별로 사이트 접속"
   ]
  },
  {
   "cell_type": "code",
   "execution_count": 9,
   "id": "4666c91e",
   "metadata": {
    "id": "4666c91e",
    "outputId": "ddf249c4-b198-4980-fa27-4b20b4645c4f"
   },
   "outputs": [],
   "source": [
    "# 대상이 되는 펜션의 리뷰 링크를 main_url로 설정\n",
    "main_url = 'https://www.goodchoice.kr/product/detail?ano=63357&adcno=3&sel_date=2023-11-17&sel_date2=2023-11-18'\n",
    "response = requests.get(main_url)\n",
    "html = response.text\n",
    "soup = BeautifulSoup(html, 'html.parser')"
   ]
  },
  {
   "cell_type": "code",
   "execution_count": 10,
   "id": "302ae983",
   "metadata": {
    "id": "302ae983"
   },
   "outputs": [],
   "source": [
    "# 리뷰 한페이지당 고객 10명의 리뷰가 담겨 있음\n",
    "# 고객 10명에 대한 리뷰 정보를 받아오는 함수\n",
    "def customer_info():\n",
    "    for j in range(0,10):\n",
    "\n",
    "        #별점\n",
    "        try:\n",
    "            _star = driver.find_element(By.CSS_SELECTOR,f'#review > ul > li:nth-child({j+1}) > div > div.score_wrap_sm > div.num').text\n",
    "        except:\n",
    "            _star=\"없음\"\n",
    "\n",
    "        #리뷰내용\n",
    "        try:\n",
    "            _text = driver.find_element(By.CSS_SELECTOR,f'#review > ul > li:nth-child({j+1}) > div > div.txt').text\n",
    "        except:\n",
    "            _text=\"없음\"\n",
    "\n",
    "        #엑셀 데이터 쌓기\n",
    "        ws.append([_star,_text])\n",
    "        time.sleep(1)"
   ]
  },
  {
   "cell_type": "code",
   "execution_count": 11,
   "id": "ABiNBBKfQQcO",
   "metadata": {
    "id": "ABiNBBKfQQcO"
   },
   "outputs": [],
   "source": [
    "driver.implicitly_wait(5) # 웹페이지 로딩 될때까지 5초는 기다림\n",
    "driver.get(main_url)\n",
    "time.sleep(3) # 3초\n",
    "\n",
    "rv = driver.find_element(By.CSS_SELECTOR, '#content > div.tab > button.tab_review')\n",
    "rv.click() # 리뷰 란으로 이동\n",
    "time.sleep(3)\n",
    "\n",
    "# 리뷰 하단 끝까지 스크롤(함수이용)\n",
    "before_h = driver.execute_script(\"return window.scrollY\")\n",
    "# 끝까지 스크롤( 끝까지 도달하면 스크롤 중단 )\n",
    "while True:\n",
    "    driver.find_element(By.CSS_SELECTOR,\"body\").send_keys(Keys.END)\n",
    "\n",
    "    time.sleep(1)\n",
    "\n",
    "    #스크롤 후 높이\n",
    "    after_h = driver.execute_script(\"return window.scrollY\")\n",
    "\n",
    "    #스크롤 값이 같으면 스크롤 멈춤\n",
    "    if after_h == before_h:\n",
    "        break\n",
    "    before_h = after_h\n",
    "\n",
    "\n",
    "last_page=False\n",
    "\n",
    "for k in range(1, 101):\n",
    "    # 마지막 페이지면 종료\n",
    "    if last_page == True:\n",
    "        break # 현재 last_page = False임\n",
    "        # 크롤링\n",
    "    if k < 6:\n",
    "        try:\n",
    "            customer_info() # 우선적으로 크롤링 실시\n",
    "            # 다음 페이지를 클릭하기 수행(if문을 사용)\n",
    "            if k != 5:\n",
    "                next_page = driver.find_element(By.CSS_SELECTOR, f'#pagination > div > button:nth-child({k+1})') # 다음페이지\n",
    "                next_page.click() # k가 1~4면 반복\n",
    "            elif k == 5:\n",
    "                next_button = driver.find_element(By.CSS_SELECTOR, '#pagination > div > button.next')\n",
    "                next_button.click()  # k가 5면 단순히 다음 클릭이 아닌 화살표 클릭까지 마무리\n",
    "        except:\n",
    "            last_page = True # 마지막 페이지라고 break 시키기\n",
    "                \n",
    "    else:  # 다음페이지부터는 규칙을 이용하기\n",
    "        k_mod = (k%5)\n",
    "        try:\n",
    "            customer_info() # 일단 크롤링\n",
    "            if k_mod != 0:\n",
    "                next_page = driver.find_element(By.CSS_SELECTOR, f'#pagination > div > button:nth-child({k_mod+2})')\n",
    "                next_page.click()\n",
    "            elif k_mod == 0:\n",
    "                next_button = driver.find_element(By.CSS_SELECTOR, '#pagination > div > button.next')\n",
    "                next_button.click()  # k가 5면 단순히 다음 클릭이 아닌 화살표 클릭까지 마무리\n",
    "        except:\n",
    "            last_page = True\n",
    "\n",
    "\n",
    "driver.quit()"
   ]
  },
  {
   "cell_type": "code",
   "execution_count": 12,
   "id": "o3gfrsGNUg-S",
   "metadata": {
    "id": "o3gfrsGNUg-S"
   },
   "outputs": [],
   "source": [
    "wb.save(\"여기어때_가평_1234펜션.xlsx\")"
   ]
  }
 ],
 "metadata": {
  "colab": {
   "collapsed_sections": [
    "0b99fc13"
   ],
   "provenance": []
  },
  "kernelspec": {
   "display_name": "Python 3 (ipykernel)",
   "language": "python",
   "name": "python3"
  },
  "language_info": {
   "codemirror_mode": {
    "name": "ipython",
    "version": 3
   },
   "file_extension": ".py",
   "mimetype": "text/x-python",
   "name": "python",
   "nbconvert_exporter": "python",
   "pygments_lexer": "ipython3",
   "version": "3.9.12"
  }
 },
 "nbformat": 4,
 "nbformat_minor": 5
}
